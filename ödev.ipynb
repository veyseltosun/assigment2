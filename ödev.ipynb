{
  "nbformat": 4,
  "nbformat_minor": 0,
  "metadata": {
    "colab": {
      "name": "ödev ",
      "provenance": []
    },
    "kernelspec": {
      "name": "python3",
      "display_name": "Python 3"
    },
    "language_info": {
      "name": "python"
    }
  },
  "cells": [
    {
      "cell_type": "code",
      "metadata": {
        "colab": {
          "base_uri": "https://localhost:8080/"
        },
        "id": "B_I9QrozA9dB",
        "outputId": "bf42db3d-f0d8-4faf-ee6d-3bc7015ef7bf"
      },
      "source": [
        "#Task : Let's say; you left a message in the past that prints a password you need. To see the password you wrote, you need to enter your name and the program should recognize you.\n",
        "#Write a program that \n",
        "\n",
        "#Takes the first name from the user and compares it to yours,\n",
        "#Then if the name the user entered is the same as yours, print out such as : \"Hello, Joseph! The password is : W@12\",\n",
        "#If the name the user entered is not the same as yours, print out such as : \"Hello, Amina! See you later.\"\n",
        "\n",
        "name = \"veysel\"\n",
        "pasword = 12345\n",
        "control = input(\"enter your name : \")\n",
        "if name==control:\n",
        "  print(\"Hello {} ! the pasword is {}\".format(control,pasword))\n",
        "else:\n",
        "    print(\"Hello {} ! see you later\".format(control))\n",
        " "
      ],
      "execution_count": 3,
      "outputs": [
        {
          "output_type": "stream",
          "text": [
            "enter your name : ali\n",
            "Hello ali ! see you later\n"
          ],
          "name": "stdout"
        }
      ]
    }
  ]
}